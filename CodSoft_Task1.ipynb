{
  "nbformat": 4,
  "nbformat_minor": 0,
  "metadata": {
    "colab": {
      "provenance": []
    },
    "kernelspec": {
      "name": "python3",
      "display_name": "Python 3"
    },
    "language_info": {
      "name": "python"
    }
  },
  "cells": [
    {
      "cell_type": "code",
      "execution_count": null,
      "metadata": {
        "colab": {
          "base_uri": "https://localhost:8080/"
        },
        "id": "n31H0k68iOUm",
        "outputId": "f4c1789c-4998-4322-92e2-7d5f42cb1602"
      },
      "outputs": [
        {
          "output_type": "stream",
          "name": "stdout",
          "text": [
            "Chatbot: Hello! How can I assist you today? (Type 'bye' to exit)\n",
            "You: what is your name\n",
            "Chatbot: You can call me ChatGPT.\n",
            "You: what is your name\n",
            "Chatbot: You can call me ChatGPT.\n",
            "You: what is your name damit dumb\n",
            "Chatbot: You can call me ChatGPT.\n",
            "You: would u like to go out with me?\n",
            "Chatbot: I don't have a response for that.\n",
            "You: why u dont have any response\n",
            "Chatbot: I don't have a response for that.\n",
            "You: why \n",
            "Chatbot: I'm not sure I understand. Can you please rephrase that?\n",
            "You: why i asked\n",
            "Chatbot: I don't have a response for that.\n",
            "You: why the fuck u dont have\n",
            "Chatbot: I'm not sure I understand. Can you please rephrase that?\n",
            "You: bye\n",
            "Chatbot: Goodbye!\n"
          ]
        }
      ],
      "source": [
        "import random\n",
        "\n",
        "# Define a list of predefined rules and responses\n",
        "rules = {\n",
        "    \"hello\": [\"Hello!\", \"Hi there!\", \"Hey!\"],\n",
        "    \"how are you\": [\"I'm just a bot, but I'm doing fine. How can I help you?\", \"I'm good, thanks for asking!\"],\n",
        "    \"bye\": [\"Goodbye!\", \"See you later!\", \"Take care!\"],\n",
        "    \"name\": [\"I'm just a chatbot, so I don't have a name.\", \"You can call me ChatGPT.\"],\n",
        "    \"default\": [\"I'm not sure I understand. Can you please rephrase that?\", \"I don't have a response for that.\"]\n",
        "}\n",
        "\n",
        "# Function to respond to user input\n",
        "def chatbot_response(user_input):\n",
        "    user_input = user_input.lower()  # Convert input to lowercase for case-insensitive matching\n",
        "\n",
        "    for key in rules:\n",
        "        if key in user_input:\n",
        "            return random.choice(rules[key])\n",
        "\n",
        "    return random.choice(rules[\"default\"])\n",
        "\n",
        "# Main loop to run the chatbot\n",
        "print(\"Chatbot: Hello! How can I assist you today? (Type 'bye' to exit)\")\n",
        "\n",
        "while True:\n",
        "    user_input = input(\"You: \")\n",
        "\n",
        "    if user_input.lower() == 'bye':\n",
        "        print(\"Chatbot: Goodbye!\")\n",
        "        break\n",
        "\n",
        "    response = chatbot_response(user_input)\n",
        "    print(\"Chatbot:\", response)\n"
      ]
    },
    {
      "cell_type": "code",
      "source": [
        "t"
      ],
      "metadata": {
        "id": "xDHcaSuiiaZf"
      },
      "execution_count": null,
      "outputs": []
    },
    {
      "cell_type": "code",
      "source": [],
      "metadata": {
        "id": "P4rDVeb9iPL4"
      },
      "execution_count": null,
      "outputs": []
    }
  ]
}